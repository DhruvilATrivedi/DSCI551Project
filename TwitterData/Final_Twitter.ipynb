{
 "cells": [
  {
   "cell_type": "code",
   "execution_count": 1,
   "metadata": {},
   "outputs": [
    {
     "name": "stderr",
     "output_type": "stream",
     "text": [
      "A subdirectory or file Tweets_Raw_data already exists.\n"
     ]
    }
   ],
   "source": [
    "import pandas as pd\n",
    "import snscrape.modules.twitter as sntwitter\n",
    "\n",
    "KEY_WORDS_LIST = ['Jennifer Lopez']\n",
    "\n",
    "since_date = '2021-03-12'\n",
    "until_date = '2021-03-18'\n",
    "\n",
    "!mkdir Tweets_Raw_data"
   ]
  },
  {
   "cell_type": "code",
   "execution_count": 2,
   "metadata": {},
   "outputs": [],
   "source": [
    "ind = 0"
   ]
  },
  {
   "cell_type": "code",
   "execution_count": 3,
   "metadata": {
    "scrolled": true
   },
   "outputs": [
    {
     "name": "stdout",
     "output_type": "stream",
     "text": [
      "Starting!!  Jennifer Lopez\n",
      "0\n",
      "500\n",
      "1000\n",
      "1500\n",
      "2000\n",
      "2500\n",
      "3000\n",
      "3500\n",
      "4000\n",
      "4500\n",
      "5000\n",
      "5500\n",
      "6000\n",
      "6500\n",
      "7000\n",
      "7500\n",
      "8000\n",
      "8500\n",
      "9000\n",
      "9500\n",
      "10000\n",
      "10500\n",
      "11000\n",
      "11500\n",
      "12000\n",
      "12500\n",
      "13000\n",
      "13500\n",
      "14000\n",
      "14500\n",
      "15000\n",
      "Ending , Jennifer Lopez\n"
     ]
    }
   ],
   "source": [
    "for key_word in KEY_WORDS_LIST:\n",
    "    df = pd.DataFrame(columns = ['DateTime','Tweet_id','Text'])\n",
    "    print(\"Starting!! \",key_word)\n",
    "    for i,tweet in enumerate(sntwitter.TwitterSearchScraper(f'{key_word} since:{since_date} until:{until_date}').get_items()):\n",
    "        if i % 500 == 0:\n",
    "             print(i)\n",
    "        df = df.append({\"DateTime\":tweet.date,\"Tweet_id\":tweet.id,\"Text\" : tweet.content},ignore_index=True)\n",
    "        ind = i\n",
    "    print(\"Ending ,\",key_word)\n",
    "    df.to_csv(f'Tweets_Raw_data/{key_word}.csv')"
   ]
  },
  {
   "cell_type": "code",
   "execution_count": null,
   "metadata": {},
   "outputs": [],
   "source": []
  }
 ],
 "metadata": {
  "kernelspec": {
   "display_name": "Python 3",
   "language": "python",
   "name": "python3"
  },
  "language_info": {
   "codemirror_mode": {
    "name": "ipython",
    "version": 3
   },
   "file_extension": ".py",
   "mimetype": "text/x-python",
   "name": "python",
   "nbconvert_exporter": "python",
   "pygments_lexer": "ipython3",
   "version": "3.8.8"
  }
 },
 "nbformat": 4,
 "nbformat_minor": 4
}
